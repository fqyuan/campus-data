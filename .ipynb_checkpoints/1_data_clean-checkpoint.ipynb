{
 "metadata": {
  "anaconda-cloud": {},
  "kernelspec": {
   "display_name": "Python [default]",
   "language": "python",
   "name": "python3"
  },
  "language_info": {
   "codemirror_mode": {
    "name": "ipython",
    "version": 3
   },
   "file_extension": ".py",
   "mimetype": "text/x-python",
   "name": "python",
   "nbconvert_exporter": "python",
   "pygments_lexer": "ipython3",
   "version": "3.5.2"
  },
  "name": "",
  "signature": "sha256:fa9879cc77f7f8908b6d1187028ba350814ea7a1f136f1c532081f497de68314"
 },
 "nbformat": 3,
 "nbformat_minor": 0,
 "worksheets": [
  {
   "cells": [
    {
     "cell_type": "markdown",
     "metadata": {},
     "source": [
      "# \u6570\u636e\u63a2\u7d22\u4e0e\u6e05\u6d17\n",
      "\n",
      "\u56e0\u4e3a\u6309\u7167\u5e38\u7406\u52a9\u5b66\u91d1\u662f\u7ed9\u5bb6\u5ead\u6709\u7ecf\u6d4e\u56f0\u96be\u7684\u5b66\u751f\u7684\uff0c\u800c\u5b66\u751f\u7684\u6d88\u8d39\u60c5\u51b5\u6bd4\u8f83\u80fd\u53cd\u6620\u5b66\u751f\u7684\u7ecf\u6d4e\u72b6\u51b5\uff0c\u6240\u4ee5\u672c\u6b21\u63a2\u7d22\u4f1a\u5148\u6e05\u6d17\u51fa\u5b66\u751f\u7684\u5404\u7c7b\u6d88\u8d39\u60c5\u51b5\u53ca\u603b\u6d88\u8d39\u3002\n",
      "\u5b66\u4e60\u6210\u7ee9\u4e5f\u5e94\u8be5\u4f1a\u5bf9\u5956\u5b66\u91d1\u7684\u8bc4\u5b9a\u6709\u4e00\u5b9a\u7684\u5f71\u54cd\uff0c\u4ee5\u6211\u5728\u672c\u79d1\u8bfb\u4e66\u65f6\u7684\u7ecf\u9a8c\u6765\u770b\uff0c\u6210\u7ee9\u597d\u7684\u80fd\u62ff\u5956\u5b66\u91d1\u4e00\u822c\u4e0d\u4f1a\u7533\u8bf7\u6216\u8005\u4e0d\u80fd\u901a\u8fc7\u52a9\u5b66\u91d1\u7684\u5ba1\u6279\uff0c\u800c\u66fe\u7ecf\u592a\u5dee\u4e5f\u4f1a\u5f71\u54cd\uff0c\u6240\u4ee5\u6211\u7b2c\u4e8c\u6b65\u51c6\u5907\u5c06\u5b66\u751f\u6210\u7ee9\u6e05\u6d17\u4e3a\u5728\u5b66\u9662\u7684\u6392\u540d\uff0c\u53ca\u5b66\u9662\u4eba\u6570\u8fd9\u4e24\u4e2a\u53d8\u91cf\u3002\n",
      "\n",
      "### \u6b65\u9aa4\n",
      "#### step1 \u6e05\u6670\u5b66\u751f\u996d\u5361\u6570\u636e\n",
      "\n",
      "#### step2 \u6e05\u6d17\u5b66\u751f\u5b66\u4e60\u6210\u7ee9\u6570\u636e\n",
      "\n",
      "## \u5904\u7406\u5b66\u751f\u6d88\u8d39\u6570\u636e"
     ]
    },
    {
     "cell_type": "code",
     "collapsed": false,
     "input": [
      "import pandas as pd \n",
      "import warnings \n",
      "warnings.filterwarnings(\"ignore\")\n",
      "names_card = [ 'stu_id','con_category','con_addr','con_way','con_time','con_count','con_remain']\n",
      "# \u5bfc\u5165\u5b66\u751f\u996d\u5361\u6570\u636e\n",
      "card_train = pd.read_csv(\"../train/card_train.txt\",header=None,names = names_card,index_col = False)\n",
      "card_test = pd.read_csv(\"../test/card_final_test.txt\",header=None,names = names_card,index_col = False)\n",
      "card_data = pd.concat([card_train,card_test])\n",
      "\n",
      "names_score = ['stu_id','forum_id','score_rank']\n",
      "# \u5bfc\u5165\u5b66\u4e60\u6210\u7ee9\u6570\u636e\n",
      "score_train = pd.read_csv(\"../train/score_train.txt\",header=None,names = names_score,index_col = False)\n",
      "score_test = pd.read_csv(\"../test/score_final_test.txt\",header=None,names = names_score,index_col = False)\n",
      "score_data = pd.concat([score_train,score_test])\n",
      "\n",
      "# \u5220\u9664\u540e\u9762\u4e0d\u7528\u7684\u53d8\u91cf\uff0c\u8282\u7701\u5185\u5b58\n",
      "del card_train,card_test,score_train,score_test,names_card,names_score"
     ],
     "language": "python",
     "metadata": {},
     "outputs": [],
     "prompt_number": 3
    },
    {
     "cell_type": "code",
     "collapsed": false,
     "input": [
      "print(card_data.shape)\n",
      "print(score_data.shape)"
     ],
     "language": "python",
     "metadata": {},
     "outputs": [
      {
       "output_type": "stream",
       "stream": "stdout",
       "text": [
        "(25112731, 7)\n",
        "(18336, 3)\n"
       ]
      }
     ],
     "prompt_number": 4
    },
    {
     "cell_type": "code",
     "collapsed": false,
     "input": [
      "card_data.head()"
     ],
     "language": "python",
     "metadata": {},
     "outputs": [
      {
       "html": [
        "<div style=\"max-width:1500px;overflow:auto;\">\n",
        "<style>\n",
        "    .dataframe thead tr:only-child th {\n",
        "        text-align: right;\n",
        "    }\n",
        "\n",
        "    .dataframe thead th {\n",
        "        text-align: left;\n",
        "    }\n",
        "\n",
        "    .dataframe tbody tr th {\n",
        "        vertical-align: top;\n",
        "    }\n",
        "</style>\n",
        "<table border=\"1\" class=\"dataframe\">\n",
        "  <thead>\n",
        "    <tr style=\"text-align: right;\">\n",
        "      <th></th>\n",
        "      <th>stu_id</th>\n",
        "      <th>con_category</th>\n",
        "      <th>con_addr</th>\n",
        "      <th>con_way</th>\n",
        "      <th>con_time</th>\n",
        "      <th>con_count</th>\n",
        "      <th>con_remain</th>\n",
        "    </tr>\n",
        "  </thead>\n",
        "  <tbody>\n",
        "    <tr>\n",
        "      <th>0</th>\n",
        "      <td>1006</td>\n",
        "      <td>POS\u6d88\u8d39</td>\n",
        "      <td>\u5730\u70b9551</td>\n",
        "      <td>\u6dcb\u6d74</td>\n",
        "      <td>2013/09/01 00:00:32</td>\n",
        "      <td>0.50</td>\n",
        "      <td>124.90</td>\n",
        "    </tr>\n",
        "    <tr>\n",
        "      <th>1</th>\n",
        "      <td>1006</td>\n",
        "      <td>POS\u6d88\u8d39</td>\n",
        "      <td>\u5730\u70b9551</td>\n",
        "      <td>\u6dcb\u6d74</td>\n",
        "      <td>2013/09/01 00:00:32</td>\n",
        "      <td>0.50</td>\n",
        "      <td>124.90</td>\n",
        "    </tr>\n",
        "    <tr>\n",
        "      <th>2</th>\n",
        "      <td>1968</td>\n",
        "      <td>POS\u6d88\u8d39</td>\n",
        "      <td>\u5730\u70b9159</td>\n",
        "      <td>\u6dcb\u6d74</td>\n",
        "      <td>2013/09/01 00:00:39</td>\n",
        "      <td>0.10</td>\n",
        "      <td>200.14</td>\n",
        "    </tr>\n",
        "    <tr>\n",
        "      <th>3</th>\n",
        "      <td>1968</td>\n",
        "      <td>POS\u6d88\u8d39</td>\n",
        "      <td>\u5730\u70b9159</td>\n",
        "      <td>\u6dcb\u6d74</td>\n",
        "      <td>2013/09/01 00:00:39</td>\n",
        "      <td>0.10</td>\n",
        "      <td>200.14</td>\n",
        "    </tr>\n",
        "    <tr>\n",
        "      <th>4</th>\n",
        "      <td>1406</td>\n",
        "      <td>POS\u6d88\u8d39</td>\n",
        "      <td>\u5730\u70b9660</td>\n",
        "      <td>\u5f00\u6c34</td>\n",
        "      <td>2013/09/01 00:00:40</td>\n",
        "      <td>0.01</td>\n",
        "      <td>374.42</td>\n",
        "    </tr>\n",
        "  </tbody>\n",
        "</table>\n",
        "</div>"
       ],
       "metadata": {},
       "output_type": "pyout",
       "prompt_number": 5,
       "text": [
        "   stu_id con_category con_addr con_way             con_time  con_count  \\\n",
        "0    1006        POS\u6d88\u8d39    \u5730\u70b9551      \u6dcb\u6d74  2013/09/01 00:00:32       0.50   \n",
        "1    1006        POS\u6d88\u8d39    \u5730\u70b9551      \u6dcb\u6d74  2013/09/01 00:00:32       0.50   \n",
        "2    1968        POS\u6d88\u8d39    \u5730\u70b9159      \u6dcb\u6d74  2013/09/01 00:00:39       0.10   \n",
        "3    1968        POS\u6d88\u8d39    \u5730\u70b9159      \u6dcb\u6d74  2013/09/01 00:00:39       0.10   \n",
        "4    1406        POS\u6d88\u8d39    \u5730\u70b9660      \u5f00\u6c34  2013/09/01 00:00:40       0.01   \n",
        "\n",
        "   con_remain  \n",
        "0      124.90  \n",
        "1      124.90  \n",
        "2      200.14  \n",
        "3      200.14  \n",
        "4      374.42  "
       ]
      }
     ],
     "prompt_number": 5
    },
    {
     "cell_type": "code",
     "collapsed": false,
     "input": [
      "# len(card_data.\u5b66\u751fid.unique())\n",
      "len(card_data['stu_id'].unique())"
     ],
     "language": "python",
     "metadata": {},
     "outputs": [
      {
       "metadata": {},
       "output_type": "pyout",
       "prompt_number": 6,
       "text": [
        "21806"
       ]
      }
     ],
     "prompt_number": 6
    },
    {
     "cell_type": "code",
     "collapsed": false,
     "input": [
      "# \u5904\u7406\u6d88\u8d39\u65b9\u5f0f\u53d8\u91cf\n",
      "card_data['con_way'] = card_data['con_way'].astype('category')\n",
      "card_data['con_way'].describe()"
     ],
     "language": "python",
     "metadata": {},
     "outputs": [
      {
       "metadata": {},
       "output_type": "pyout",
       "prompt_number": 7,
       "text": [
        "count     24256659\n",
        "unique          11\n",
        "top             \u98df\u5802\n",
        "freq       9128919\n",
        "Name: con_way, dtype: object"
       ]
      }
     ],
     "prompt_number": 7
    },
    {
     "cell_type": "code",
     "collapsed": false,
     "input": [
      "# \u770b\u770b\u6709\u591a\u5c11\u79cd\u6d88\u8d39\u65b9\u5f0f\n",
      "print(card_data['con_way'].unique())"
     ],
     "language": "python",
     "metadata": {},
     "outputs": [
      {
       "output_type": "stream",
       "stream": "stdout",
       "text": [
        "[\u6dcb\u6d74, \u5f00\u6c34, \u5176\u4ed6, \u6d17\u8863\u623f, \u6587\u5370\u4e2d\u5fc3, ..., \u98df\u5802, \u6821\u8f66, NaN, \u8d85\u5e02, \u6821\u533b\u9662]\n",
        "Length: 12\n",
        "Categories (11, object): [\u6dcb\u6d74, \u5f00\u6c34, \u5176\u4ed6, \u6d17\u8863\u623f, ..., \u98df\u5802, \u6821\u8f66, \u8d85\u5e02, \u6821\u533b\u9662]\n"
       ]
      }
     ],
     "prompt_number": 8
    },
    {
     "cell_type": "markdown",
     "metadata": {},
     "source": [
      "\u6570\u636e\u603b\u5171\u8bb0\u5f55\u4e8611\u7c7b\u6d88\u8d39\u6570\u636e\uff08\u4e0d\u542bNan\uff09\uff0c23998315\u6b21\u6d88\u8d39\uff0c\u5176\u4e2d\u98df\u5802\u6d88\u8d39\u6b21\u6570\u6700\u591a"
     ]
    },
    {
     "cell_type": "code",
     "collapsed": false,
     "input": [
      "# \u7f3a\u5931\u503c\u5904\u7406\n",
      "# \u67e5\u770b\uff2e\uff41\uff4e\n",
      "card_data.isnull().sum()"
     ],
     "language": "python",
     "metadata": {},
     "outputs": [
      {
       "metadata": {},
       "output_type": "pyout",
       "prompt_number": 9,
       "text": [
        "stu_id               0\n",
        "con_category     62868\n",
        "con_addr        856072\n",
        "con_way         856072\n",
        "con_time             0\n",
        "con_count            0\n",
        "con_remain           0\n",
        "dtype: int64"
       ]
      }
     ],
     "prompt_number": 9
    },
    {
     "cell_type": "code",
     "collapsed": false,
     "input": [
      "# \u7531\u4e8e\u6d88\u8d39\u65b9\u5f0f\u4e2d\u98df\u5802\u6d88\u8d39\u6700\u591a\uff0c\u4f7f\u7528\u98df\u5802\u4ee3\u66ff\u7f3a\u5931\u7684\u6d88\u8d39\u7c7b\u522b\n",
      "# card_data['con_way'].fillna(card_data['con_way']['\u98df\u5802'],inplace=True)\n",
      "card_data['con_way'].fillna(card_data['con_way'].unique()[7], inplace=True)"
     ],
     "language": "python",
     "metadata": {},
     "outputs": [],
     "prompt_number": 10
    },
    {
     "cell_type": "code",
     "collapsed": false,
     "input": [
      "card_data['con_way'].describe()"
     ],
     "language": "python",
     "metadata": {},
     "outputs": [
      {
       "metadata": {},
       "output_type": "pyout",
       "prompt_number": 11,
       "text": [
        "count     25112731\n",
        "unique          11\n",
        "top             \u98df\u5802\n",
        "freq       9984991\n",
        "Name: con_way, dtype: object"
       ]
      }
     ],
     "prompt_number": 11
    },
    {
     "cell_type": "code",
     "collapsed": false,
     "input": [
      "card_data['con_way'].unique()"
     ],
     "language": "python",
     "metadata": {},
     "outputs": [
      {
       "metadata": {},
       "output_type": "pyout",
       "prompt_number": 12,
       "text": [
        "[\u6dcb\u6d74, \u5f00\u6c34, \u5176\u4ed6, \u6d17\u8863\u623f, \u6587\u5370\u4e2d\u5fc3, ..., \u56fe\u4e66\u9986, \u98df\u5802, \u6821\u8f66, \u8d85\u5e02, \u6821\u533b\u9662]\n",
        "Length: 11\n",
        "Categories (11, object): [\u6dcb\u6d74, \u5f00\u6c34, \u5176\u4ed6, \u6d17\u8863\u623f, ..., \u98df\u5802, \u6821\u8f66, \u8d85\u5e02, \u6821\u533b\u9662]"
       ]
      }
     ],
     "prompt_number": 12
    },
    {
     "cell_type": "code",
     "collapsed": true,
     "input": [
      "#\u6bcf\u4e2a\u5b66\u751f\u7684\u603b\u6d88\u8d39\n",
      "card_sum_by_ID = card_data.groupby('stu_id')['con_count'].sum()"
     ],
     "language": "python",
     "metadata": {},
     "outputs": [],
     "prompt_number": 13
    },
    {
     "cell_type": "code",
     "collapsed": false,
     "input": [
      "card_sum_by_ID.head(20)"
     ],
     "language": "python",
     "metadata": {},
     "outputs": [
      {
       "metadata": {},
       "output_type": "pyout",
       "prompt_number": 14,
       "text": [
        "stu_id\n",
        "0      4997.56\n",
        "1      6182.69\n",
        "6      6470.82\n",
        "7     12423.77\n",
        "8     11472.37\n",
        "9     14502.91\n",
        "10     6028.74\n",
        "11     5976.20\n",
        "12    10452.48\n",
        "13      884.40\n",
        "14      890.92\n",
        "19     3331.06\n",
        "20     6393.73\n",
        "21     3165.76\n",
        "22    11328.89\n",
        "23    10959.76\n",
        "24     8889.05\n",
        "25      142.20\n",
        "26      307.51\n",
        "27     5184.20\n",
        "Name: con_count, dtype: float64"
       ]
      }
     ],
     "prompt_number": 14
    },
    {
     "cell_type": "code",
     "collapsed": true,
     "input": [
      "## \u6bcf\u4e2a\u5b66\u751f\u5404\u7c7b\u522b\u7684\u6d88\u8d39\n",
      "card_sum_by_ID_type = card_data.groupby(['stu_id','con_way'])['con_count'].sum().unstack('con_way')"
     ],
     "language": "python",
     "metadata": {},
     "outputs": [],
     "prompt_number": 15
    },
    {
     "cell_type": "code",
     "collapsed": false,
     "input": [
      "card_sum_by_ID_type.head()"
     ],
     "language": "python",
     "metadata": {},
     "outputs": [
      {
       "html": [
        "<div style=\"max-width:1500px;overflow:auto;\">\n",
        "<style>\n",
        "    .dataframe thead tr:only-child th {\n",
        "        text-align: right;\n",
        "    }\n",
        "\n",
        "    .dataframe thead th {\n",
        "        text-align: left;\n",
        "    }\n",
        "\n",
        "    .dataframe tbody tr th {\n",
        "        vertical-align: top;\n",
        "    }\n",
        "</style>\n",
        "<table border=\"1\" class=\"dataframe\">\n",
        "  <thead>\n",
        "    <tr style=\"text-align: right;\">\n",
        "      <th>con_way</th>\n",
        "      <th>\u5176\u4ed6</th>\n",
        "      <th>\u56fe\u4e66\u9986</th>\n",
        "      <th>\u5f00\u6c34</th>\n",
        "      <th>\u6559\u52a1\u5904</th>\n",
        "      <th>\u6587\u5370\u4e2d\u5fc3</th>\n",
        "      <th>\u6821\u533b\u9662</th>\n",
        "      <th>\u6821\u8f66</th>\n",
        "      <th>\u6d17\u8863\u623f</th>\n",
        "      <th>\u6dcb\u6d74</th>\n",
        "      <th>\u8d85\u5e02</th>\n",
        "      <th>\u98df\u5802</th>\n",
        "    </tr>\n",
        "    <tr>\n",
        "      <th>stu_id</th>\n",
        "      <th></th>\n",
        "      <th></th>\n",
        "      <th></th>\n",
        "      <th></th>\n",
        "      <th></th>\n",
        "      <th></th>\n",
        "      <th></th>\n",
        "      <th></th>\n",
        "      <th></th>\n",
        "      <th></th>\n",
        "      <th></th>\n",
        "    </tr>\n",
        "  </thead>\n",
        "  <tbody>\n",
        "    <tr>\n",
        "      <th>0</th>\n",
        "      <td>NaN</td>\n",
        "      <td>84.4</td>\n",
        "      <td>429.58</td>\n",
        "      <td>NaN</td>\n",
        "      <td>0.3</td>\n",
        "      <td>NaN</td>\n",
        "      <td>417.49</td>\n",
        "      <td>NaN</td>\n",
        "      <td>12.30</td>\n",
        "      <td>839.68</td>\n",
        "      <td>3213.81</td>\n",
        "    </tr>\n",
        "    <tr>\n",
        "      <th>1</th>\n",
        "      <td>NaN</td>\n",
        "      <td>324.2</td>\n",
        "      <td>265.97</td>\n",
        "      <td>29.3</td>\n",
        "      <td>96.4</td>\n",
        "      <td>NaN</td>\n",
        "      <td>119.40</td>\n",
        "      <td>25.02</td>\n",
        "      <td>22.50</td>\n",
        "      <td>514.30</td>\n",
        "      <td>4785.60</td>\n",
        "    </tr>\n",
        "    <tr>\n",
        "      <th>6</th>\n",
        "      <td>4.0</td>\n",
        "      <td>2.2</td>\n",
        "      <td>869.50</td>\n",
        "      <td>NaN</td>\n",
        "      <td>13.5</td>\n",
        "      <td>NaN</td>\n",
        "      <td>106.44</td>\n",
        "      <td>1.98</td>\n",
        "      <td>10.10</td>\n",
        "      <td>718.10</td>\n",
        "      <td>4745.00</td>\n",
        "    </tr>\n",
        "    <tr>\n",
        "      <th>7</th>\n",
        "      <td>NaN</td>\n",
        "      <td>91.3</td>\n",
        "      <td>1089.49</td>\n",
        "      <td>11.4</td>\n",
        "      <td>10.3</td>\n",
        "      <td>NaN</td>\n",
        "      <td>623.04</td>\n",
        "      <td>50.64</td>\n",
        "      <td>21.40</td>\n",
        "      <td>1412.75</td>\n",
        "      <td>9113.45</td>\n",
        "    </tr>\n",
        "    <tr>\n",
        "      <th>8</th>\n",
        "      <td>NaN</td>\n",
        "      <td>425.9</td>\n",
        "      <td>2440.94</td>\n",
        "      <td>NaN</td>\n",
        "      <td>2.6</td>\n",
        "      <td>NaN</td>\n",
        "      <td>2211.45</td>\n",
        "      <td>4.50</td>\n",
        "      <td>39.83</td>\n",
        "      <td>10.00</td>\n",
        "      <td>6337.15</td>\n",
        "    </tr>\n",
        "  </tbody>\n",
        "</table>\n",
        "</div>"
       ],
       "metadata": {},
       "output_type": "pyout",
       "prompt_number": 16,
       "text": [
        "con_way   \u5176\u4ed6    \u56fe\u4e66\u9986       \u5f00\u6c34   \u6559\u52a1\u5904  \u6587\u5370\u4e2d\u5fc3  \u6821\u533b\u9662       \u6821\u8f66    \u6d17\u8863\u623f     \u6dcb\u6d74       \u8d85\u5e02  \\\n",
        "stu_id                                                                          \n",
        "0        NaN   84.4   429.58   NaN   0.3  NaN   417.49    NaN  12.30   839.68   \n",
        "1        NaN  324.2   265.97  29.3  96.4  NaN   119.40  25.02  22.50   514.30   \n",
        "6        4.0    2.2   869.50   NaN  13.5  NaN   106.44   1.98  10.10   718.10   \n",
        "7        NaN   91.3  1089.49  11.4  10.3  NaN   623.04  50.64  21.40  1412.75   \n",
        "8        NaN  425.9  2440.94   NaN   2.6  NaN  2211.45   4.50  39.83    10.00   \n",
        "\n",
        "con_way       \u98df\u5802  \n",
        "stu_id            \n",
        "0        3213.81  \n",
        "1        4785.60  \n",
        "6        4745.00  \n",
        "7        9113.45  \n",
        "8        6337.15  "
       ]
      }
     ],
     "prompt_number": 16
    },
    {
     "cell_type": "code",
     "collapsed": false,
     "input": [
      "# \u7f3a\u5931\u503c\n",
      "card_sum_by_ID_type.fillna(0,inplace=True)"
     ],
     "language": "python",
     "metadata": {},
     "outputs": [],
     "prompt_number": 17
    },
    {
     "cell_type": "code",
     "collapsed": false,
     "input": [
      "card_sum_by_ID_type.head()"
     ],
     "language": "python",
     "metadata": {},
     "outputs": [
      {
       "html": [
        "<div style=\"max-width:1500px;overflow:auto;\">\n",
        "<style>\n",
        "    .dataframe thead tr:only-child th {\n",
        "        text-align: right;\n",
        "    }\n",
        "\n",
        "    .dataframe thead th {\n",
        "        text-align: left;\n",
        "    }\n",
        "\n",
        "    .dataframe tbody tr th {\n",
        "        vertical-align: top;\n",
        "    }\n",
        "</style>\n",
        "<table border=\"1\" class=\"dataframe\">\n",
        "  <thead>\n",
        "    <tr style=\"text-align: right;\">\n",
        "      <th>con_way</th>\n",
        "      <th>\u5176\u4ed6</th>\n",
        "      <th>\u56fe\u4e66\u9986</th>\n",
        "      <th>\u5f00\u6c34</th>\n",
        "      <th>\u6559\u52a1\u5904</th>\n",
        "      <th>\u6587\u5370\u4e2d\u5fc3</th>\n",
        "      <th>\u6821\u533b\u9662</th>\n",
        "      <th>\u6821\u8f66</th>\n",
        "      <th>\u6d17\u8863\u623f</th>\n",
        "      <th>\u6dcb\u6d74</th>\n",
        "      <th>\u8d85\u5e02</th>\n",
        "      <th>\u98df\u5802</th>\n",
        "    </tr>\n",
        "    <tr>\n",
        "      <th>stu_id</th>\n",
        "      <th></th>\n",
        "      <th></th>\n",
        "      <th></th>\n",
        "      <th></th>\n",
        "      <th></th>\n",
        "      <th></th>\n",
        "      <th></th>\n",
        "      <th></th>\n",
        "      <th></th>\n",
        "      <th></th>\n",
        "      <th></th>\n",
        "    </tr>\n",
        "  </thead>\n",
        "  <tbody>\n",
        "    <tr>\n",
        "      <th>0</th>\n",
        "      <td>0.0</td>\n",
        "      <td>84.4</td>\n",
        "      <td>429.58</td>\n",
        "      <td>0.0</td>\n",
        "      <td>0.3</td>\n",
        "      <td>0.0</td>\n",
        "      <td>417.49</td>\n",
        "      <td>0.00</td>\n",
        "      <td>12.30</td>\n",
        "      <td>839.68</td>\n",
        "      <td>3213.81</td>\n",
        "    </tr>\n",
        "    <tr>\n",
        "      <th>1</th>\n",
        "      <td>0.0</td>\n",
        "      <td>324.2</td>\n",
        "      <td>265.97</td>\n",
        "      <td>29.3</td>\n",
        "      <td>96.4</td>\n",
        "      <td>0.0</td>\n",
        "      <td>119.40</td>\n",
        "      <td>25.02</td>\n",
        "      <td>22.50</td>\n",
        "      <td>514.30</td>\n",
        "      <td>4785.60</td>\n",
        "    </tr>\n",
        "    <tr>\n",
        "      <th>6</th>\n",
        "      <td>4.0</td>\n",
        "      <td>2.2</td>\n",
        "      <td>869.50</td>\n",
        "      <td>0.0</td>\n",
        "      <td>13.5</td>\n",
        "      <td>0.0</td>\n",
        "      <td>106.44</td>\n",
        "      <td>1.98</td>\n",
        "      <td>10.10</td>\n",
        "      <td>718.10</td>\n",
        "      <td>4745.00</td>\n",
        "    </tr>\n",
        "    <tr>\n",
        "      <th>7</th>\n",
        "      <td>0.0</td>\n",
        "      <td>91.3</td>\n",
        "      <td>1089.49</td>\n",
        "      <td>11.4</td>\n",
        "      <td>10.3</td>\n",
        "      <td>0.0</td>\n",
        "      <td>623.04</td>\n",
        "      <td>50.64</td>\n",
        "      <td>21.40</td>\n",
        "      <td>1412.75</td>\n",
        "      <td>9113.45</td>\n",
        "    </tr>\n",
        "    <tr>\n",
        "      <th>8</th>\n",
        "      <td>0.0</td>\n",
        "      <td>425.9</td>\n",
        "      <td>2440.94</td>\n",
        "      <td>0.0</td>\n",
        "      <td>2.6</td>\n",
        "      <td>0.0</td>\n",
        "      <td>2211.45</td>\n",
        "      <td>4.50</td>\n",
        "      <td>39.83</td>\n",
        "      <td>10.00</td>\n",
        "      <td>6337.15</td>\n",
        "    </tr>\n",
        "  </tbody>\n",
        "</table>\n",
        "</div>"
       ],
       "metadata": {},
       "output_type": "pyout",
       "prompt_number": 18,
       "text": [
        "con_way   \u5176\u4ed6    \u56fe\u4e66\u9986       \u5f00\u6c34   \u6559\u52a1\u5904  \u6587\u5370\u4e2d\u5fc3  \u6821\u533b\u9662       \u6821\u8f66    \u6d17\u8863\u623f     \u6dcb\u6d74       \u8d85\u5e02  \\\n",
        "stu_id                                                                          \n",
        "0        0.0   84.4   429.58   0.0   0.3  0.0   417.49   0.00  12.30   839.68   \n",
        "1        0.0  324.2   265.97  29.3  96.4  0.0   119.40  25.02  22.50   514.30   \n",
        "6        4.0    2.2   869.50   0.0  13.5  0.0   106.44   1.98  10.10   718.10   \n",
        "7        0.0   91.3  1089.49  11.4  10.3  0.0   623.04  50.64  21.40  1412.75   \n",
        "8        0.0  425.9  2440.94   0.0   2.6  0.0  2211.45   4.50  39.83    10.00   \n",
        "\n",
        "con_way       \u98df\u5802  \n",
        "stu_id            \n",
        "0        3213.81  \n",
        "1        4785.60  \n",
        "6        4745.00  \n",
        "7        9113.45  \n",
        "8        6337.15  "
       ]
      }
     ],
     "prompt_number": 18
    },
    {
     "cell_type": "code",
     "collapsed": false,
     "input": [
      "## \u7ed3\u5408\u6570\u636e\n",
      "card = pd.concat([card_sum_by_ID,card_sum_by_ID_type],axis =1)"
     ],
     "language": "python",
     "metadata": {},
     "outputs": [],
     "prompt_number": 19
    },
    {
     "cell_type": "code",
     "collapsed": false,
     "input": [
      "card.head()"
     ],
     "language": "python",
     "metadata": {},
     "outputs": [
      {
       "html": [
        "<div style=\"max-width:1500px;overflow:auto;\">\n",
        "<style>\n",
        "    .dataframe thead tr:only-child th {\n",
        "        text-align: right;\n",
        "    }\n",
        "\n",
        "    .dataframe thead th {\n",
        "        text-align: left;\n",
        "    }\n",
        "\n",
        "    .dataframe tbody tr th {\n",
        "        vertical-align: top;\n",
        "    }\n",
        "</style>\n",
        "<table border=\"1\" class=\"dataframe\">\n",
        "  <thead>\n",
        "    <tr style=\"text-align: right;\">\n",
        "      <th></th>\n",
        "      <th>con_count</th>\n",
        "      <th>\u5176\u4ed6</th>\n",
        "      <th>\u56fe\u4e66\u9986</th>\n",
        "      <th>\u5f00\u6c34</th>\n",
        "      <th>\u6559\u52a1\u5904</th>\n",
        "      <th>\u6587\u5370\u4e2d\u5fc3</th>\n",
        "      <th>\u6821\u533b\u9662</th>\n",
        "      <th>\u6821\u8f66</th>\n",
        "      <th>\u6d17\u8863\u623f</th>\n",
        "      <th>\u6dcb\u6d74</th>\n",
        "      <th>\u8d85\u5e02</th>\n",
        "      <th>\u98df\u5802</th>\n",
        "    </tr>\n",
        "    <tr>\n",
        "      <th>stu_id</th>\n",
        "      <th></th>\n",
        "      <th></th>\n",
        "      <th></th>\n",
        "      <th></th>\n",
        "      <th></th>\n",
        "      <th></th>\n",
        "      <th></th>\n",
        "      <th></th>\n",
        "      <th></th>\n",
        "      <th></th>\n",
        "      <th></th>\n",
        "      <th></th>\n",
        "    </tr>\n",
        "  </thead>\n",
        "  <tbody>\n",
        "    <tr>\n",
        "      <th>0</th>\n",
        "      <td>4997.56</td>\n",
        "      <td>0.0</td>\n",
        "      <td>84.4</td>\n",
        "      <td>429.58</td>\n",
        "      <td>0.0</td>\n",
        "      <td>0.3</td>\n",
        "      <td>0.0</td>\n",
        "      <td>417.49</td>\n",
        "      <td>0.00</td>\n",
        "      <td>12.30</td>\n",
        "      <td>839.68</td>\n",
        "      <td>3213.81</td>\n",
        "    </tr>\n",
        "    <tr>\n",
        "      <th>1</th>\n",
        "      <td>6182.69</td>\n",
        "      <td>0.0</td>\n",
        "      <td>324.2</td>\n",
        "      <td>265.97</td>\n",
        "      <td>29.3</td>\n",
        "      <td>96.4</td>\n",
        "      <td>0.0</td>\n",
        "      <td>119.40</td>\n",
        "      <td>25.02</td>\n",
        "      <td>22.50</td>\n",
        "      <td>514.30</td>\n",
        "      <td>4785.60</td>\n",
        "    </tr>\n",
        "    <tr>\n",
        "      <th>6</th>\n",
        "      <td>6470.82</td>\n",
        "      <td>4.0</td>\n",
        "      <td>2.2</td>\n",
        "      <td>869.50</td>\n",
        "      <td>0.0</td>\n",
        "      <td>13.5</td>\n",
        "      <td>0.0</td>\n",
        "      <td>106.44</td>\n",
        "      <td>1.98</td>\n",
        "      <td>10.10</td>\n",
        "      <td>718.10</td>\n",
        "      <td>4745.00</td>\n",
        "    </tr>\n",
        "    <tr>\n",
        "      <th>7</th>\n",
        "      <td>12423.77</td>\n",
        "      <td>0.0</td>\n",
        "      <td>91.3</td>\n",
        "      <td>1089.49</td>\n",
        "      <td>11.4</td>\n",
        "      <td>10.3</td>\n",
        "      <td>0.0</td>\n",
        "      <td>623.04</td>\n",
        "      <td>50.64</td>\n",
        "      <td>21.40</td>\n",
        "      <td>1412.75</td>\n",
        "      <td>9113.45</td>\n",
        "    </tr>\n",
        "    <tr>\n",
        "      <th>8</th>\n",
        "      <td>11472.37</td>\n",
        "      <td>0.0</td>\n",
        "      <td>425.9</td>\n",
        "      <td>2440.94</td>\n",
        "      <td>0.0</td>\n",
        "      <td>2.6</td>\n",
        "      <td>0.0</td>\n",
        "      <td>2211.45</td>\n",
        "      <td>4.50</td>\n",
        "      <td>39.83</td>\n",
        "      <td>10.00</td>\n",
        "      <td>6337.15</td>\n",
        "    </tr>\n",
        "  </tbody>\n",
        "</table>\n",
        "</div>"
       ],
       "metadata": {},
       "output_type": "pyout",
       "prompt_number": 32,
       "text": [
        "        con_count   \u5176\u4ed6    \u56fe\u4e66\u9986       \u5f00\u6c34   \u6559\u52a1\u5904  \u6587\u5370\u4e2d\u5fc3  \u6821\u533b\u9662       \u6821\u8f66    \u6d17\u8863\u623f  \\\n",
        "stu_id                                                                    \n",
        "0         4997.56  0.0   84.4   429.58   0.0   0.3  0.0   417.49   0.00   \n",
        "1         6182.69  0.0  324.2   265.97  29.3  96.4  0.0   119.40  25.02   \n",
        "6         6470.82  4.0    2.2   869.50   0.0  13.5  0.0   106.44   1.98   \n",
        "7        12423.77  0.0   91.3  1089.49  11.4  10.3  0.0   623.04  50.64   \n",
        "8        11472.37  0.0  425.9  2440.94   0.0   2.6  0.0  2211.45   4.50   \n",
        "\n",
        "           \u6dcb\u6d74       \u8d85\u5e02       \u98df\u5802  \n",
        "stu_id                           \n",
        "0       12.30   839.68  3213.81  \n",
        "1       22.50   514.30  4785.60  \n",
        "6       10.10   718.10  4745.00  \n",
        "7       21.40  1412.75  9113.45  \n",
        "8       39.83    10.00  6337.15  "
       ]
      }
     ],
     "prompt_number": 32
    },
    {
     "cell_type": "code",
     "collapsed": false,
     "input": [
      "del card_sum_by_ID,card_sum_by_ID_type,card_data\n"
     ],
     "language": "python",
     "metadata": {},
     "outputs": [],
     "prompt_number": 21
    },
    {
     "cell_type": "heading",
     "level": 2,
     "metadata": {},
     "source": [
      "\u5904\u7406\u5b66\u751f\u5b66\u4e60\u6210\u7ee9\u6570\u636e"
     ]
    },
    {
     "cell_type": "code",
     "collapsed": true,
     "input": [
      "# \u5c06\u6210\u7ee9\u6392\u540d\u6807\u51c6\u5316\n",
      "score_data.score_rank= score_data.groupby('forum_id').score_rank.transform(lambda x: (x - x.mean()) / x.std())"
     ],
     "language": "python",
     "metadata": {},
     "outputs": [],
     "prompt_number": 22
    },
    {
     "cell_type": "code",
     "collapsed": false,
     "input": [
      "# score_data.set_index('stu_id', inplace=True)"
     ],
     "language": "python",
     "metadata": {},
     "outputs": [],
     "prompt_number": 37
    },
    {
     "cell_type": "code",
     "collapsed": true,
     "input": [
      "# \u4fdd\u5b58\u6570\u636e\n",
      "score_data.to_csv('../data_processed/cleaned_score.csv')\n",
      "card.to_csv('../data_processed/cleaned_card.csv')"
     ],
     "language": "python",
     "metadata": {},
     "outputs": [],
     "prompt_number": 38
    },
    {
     "cell_type": "code",
     "collapsed": true,
     "input": [
      "# http://pandas.pydata.org/pandas-docs/stable/io.html#io-read-csv-table"
     ],
     "language": "python",
     "metadata": {},
     "outputs": [],
     "prompt_number": 25
    }
   ],
   "metadata": {}
  }
 ]
}