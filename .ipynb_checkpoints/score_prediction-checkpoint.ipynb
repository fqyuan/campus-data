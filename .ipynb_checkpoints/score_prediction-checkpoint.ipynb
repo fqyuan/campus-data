{
 "metadata": {
  "name": "",
  "signature": "sha256:456f2683a34e0b7e588d7003530ee32d9ada2e425cf9b1c71b4eb6668d1c36ea"
 },
 "nbformat": 3,
 "nbformat_minor": 0,
 "worksheets": []
}