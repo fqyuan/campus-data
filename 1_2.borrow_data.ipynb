{
 "metadata": {
  "name": "",
  "signature": "sha256:8027c68e444a096f071bbd10d830218cd7df7c069c9811faccfed584fe2b01a3"
 },
 "nbformat": 3,
 "nbformat_minor": 0,
 "worksheets": [
  {
   "cells": [
    {
     "cell_type": "code",
     "collapsed": false,
     "input": [
      "%matplotlib inline\n",
      "import pandas as pd\n",
      "import numpy as np\n",
      "#Set some Pandas options\n",
      "pd.set_option('max_columns', 30)\n",
      "pd.set_option('max_rows', 20)"
     ],
     "language": "python",
     "metadata": {},
     "outputs": [],
     "prompt_number": 1
    },
    {
     "cell_type": "code",
     "collapsed": false,
     "input": [
      "borrow_names = ['id','borrow_time','book_name','book_index']\n",
      "borrow_test = pd.read_csv('./test/borrow_final_test.txt',header=None,names=borrow_names)\n",
      "borrow_train = pd.read_csv('./train/borrow_train.txt',header=None,names=borrow_names)\n",
      "borrow_data = pd.concat([borrow_test,borrow_train], ignore_index=False)\n",
      "del borrow_test,borrow_train,borrow_names\n",
      "borrow_data.head()"
     ],
     "language": "python",
     "metadata": {},
     "outputs": [
      {
       "html": [
        "<div style=\"max-width:1500px;overflow:auto;\">\n",
        "<style>\n",
        "    .dataframe thead tr:only-child th {\n",
        "        text-align: right;\n",
        "    }\n",
        "\n",
        "    .dataframe thead th {\n",
        "        text-align: left;\n",
        "    }\n",
        "\n",
        "    .dataframe tbody tr th {\n",
        "        vertical-align: top;\n",
        "    }\n",
        "</style>\n",
        "<table border=\"1\" class=\"dataframe\">\n",
        "  <thead>\n",
        "    <tr style=\"text-align: right;\">\n",
        "      <th></th>\n",
        "      <th>id</th>\n",
        "      <th>borrow_time</th>\n",
        "      <th>book_name</th>\n",
        "      <th>book_index</th>\n",
        "    </tr>\n",
        "  </thead>\n",
        "  <tbody>\n",
        "    <tr>\n",
        "      <th>0</th>\n",
        "      <td>27604</td>\n",
        "      <td>2014/10/31</td>\n",
        "      <td>Visual C++\u7cbe\u5f69\u5b9e\u4f8b\u8be6\u89e3 Visual C++ jing cai shi li xi...</td>\n",
        "      <td>TP312C 535</td>\n",
        "    </tr>\n",
        "    <tr>\n",
        "      <th>1</th>\n",
        "      <td>19774</td>\n",
        "      <td>2013/9/9</td>\n",
        "      <td>Photoshop CS4 \u4e2d\u6587\u7248\u5b8c\u5168\u81ea\u5b66\u653b\u7565 Photoshop CS4 zhong we...</td>\n",
        "      <td>TP391.41 678.4</td>\n",
        "    </tr>\n",
        "    <tr>\n",
        "      <th>2</th>\n",
        "      <td>14482</td>\n",
        "      <td>2014/10/13</td>\n",
        "      <td>\u8ba4\u77e5\u5fc3\u7406\u5b66 ren zhi xin li xue Cognitive psychology ...</td>\n",
        "      <td>B842.1 S837</td>\n",
        "    </tr>\n",
        "    <tr>\n",
        "      <th>3</th>\n",
        "      <td>26968</td>\n",
        "      <td>2014/2/28</td>\n",
        "      <td>\u7535\u5de5\u539f\u7406\u7684MATLAB\u5b9e\u73b0 dian gong yuan li de MATLAB shi ...</td>\n",
        "      <td>NaN</td>\n",
        "    </tr>\n",
        "    <tr>\n",
        "      <th>4</th>\n",
        "      <td>22567</td>\n",
        "      <td>2015/6/12</td>\n",
        "      <td>2009\u5e74\u8003\u7814\u82f1\u8bed\u8bfb\u771f\u9898\u8bb0\u5355\u8bcd 2009 nian kao yan ying yu du z...</td>\n",
        "      <td>H313-42 695 2009</td>\n",
        "    </tr>\n",
        "  </tbody>\n",
        "</table>\n",
        "</div>"
       ],
       "metadata": {},
       "output_type": "pyout",
       "prompt_number": 2,
       "text": [
        "      id borrow_time                                          book_name  \\\n",
        "0  27604  2014/10/31  Visual C++\u7cbe\u5f69\u5b9e\u4f8b\u8be6\u89e3 Visual C++ jing cai shi li xi...   \n",
        "1  19774    2013/9/9  Photoshop CS4 \u4e2d\u6587\u7248\u5b8c\u5168\u81ea\u5b66\u653b\u7565 Photoshop CS4 zhong we...   \n",
        "2  14482  2014/10/13  \u8ba4\u77e5\u5fc3\u7406\u5b66 ren zhi xin li xue Cognitive psychology ...   \n",
        "3  26968   2014/2/28  \u7535\u5de5\u539f\u7406\u7684MATLAB\u5b9e\u73b0 dian gong yuan li de MATLAB shi ...   \n",
        "4  22567   2015/6/12  2009\u5e74\u8003\u7814\u82f1\u8bed\u8bfb\u771f\u9898\u8bb0\u5355\u8bcd 2009 nian kao yan ying yu du z...   \n",
        "\n",
        "         book_index  \n",
        "0        TP312C 535  \n",
        "1    TP391.41 678.4  \n",
        "2       B842.1 S837  \n",
        "3               NaN  \n",
        "4  H313-42 695 2009  "
       ]
      }
     ],
     "prompt_number": 2
    },
    {
     "cell_type": "markdown",
     "metadata": {},
     "source": [
      "#\u5c06\u6570\u636e\u65f6\u95f4\u6309\u6708\u8fdb\u884c\u89e3\u6790"
     ]
    },
    {
     "cell_type": "code",
     "collapsed": false,
     "input": [
      "borrow_data['borrow_month']=pd.to_datetime(borrow_data['borrow_time']).apply(lambda x: x.strftime('%Y-%m'))\n",
      "borrow_data.drop('borrow_time',1, inplace=True)\n",
      "borrow_data.head()"
     ],
     "language": "python",
     "metadata": {},
     "outputs": [
      {
       "html": [
        "<div style=\"max-width:1500px;overflow:auto;\">\n",
        "<style>\n",
        "    .dataframe thead tr:only-child th {\n",
        "        text-align: right;\n",
        "    }\n",
        "\n",
        "    .dataframe thead th {\n",
        "        text-align: left;\n",
        "    }\n",
        "\n",
        "    .dataframe tbody tr th {\n",
        "        vertical-align: top;\n",
        "    }\n",
        "</style>\n",
        "<table border=\"1\" class=\"dataframe\">\n",
        "  <thead>\n",
        "    <tr style=\"text-align: right;\">\n",
        "      <th></th>\n",
        "      <th>id</th>\n",
        "      <th>book_name</th>\n",
        "      <th>book_index</th>\n",
        "      <th>borrow_month</th>\n",
        "    </tr>\n",
        "  </thead>\n",
        "  <tbody>\n",
        "    <tr>\n",
        "      <th>0</th>\n",
        "      <td>27604</td>\n",
        "      <td>Visual C++\u7cbe\u5f69\u5b9e\u4f8b\u8be6\u89e3 Visual C++ jing cai shi li xi...</td>\n",
        "      <td>TP312C 535</td>\n",
        "      <td>2014-10</td>\n",
        "    </tr>\n",
        "    <tr>\n",
        "      <th>1</th>\n",
        "      <td>19774</td>\n",
        "      <td>Photoshop CS4 \u4e2d\u6587\u7248\u5b8c\u5168\u81ea\u5b66\u653b\u7565 Photoshop CS4 zhong we...</td>\n",
        "      <td>TP391.41 678.4</td>\n",
        "      <td>2013-09</td>\n",
        "    </tr>\n",
        "    <tr>\n",
        "      <th>2</th>\n",
        "      <td>14482</td>\n",
        "      <td>\u8ba4\u77e5\u5fc3\u7406\u5b66 ren zhi xin li xue Cognitive psychology ...</td>\n",
        "      <td>B842.1 S837</td>\n",
        "      <td>2014-10</td>\n",
        "    </tr>\n",
        "    <tr>\n",
        "      <th>3</th>\n",
        "      <td>26968</td>\n",
        "      <td>\u7535\u5de5\u539f\u7406\u7684MATLAB\u5b9e\u73b0 dian gong yuan li de MATLAB shi ...</td>\n",
        "      <td>NaN</td>\n",
        "      <td>2014-02</td>\n",
        "    </tr>\n",
        "    <tr>\n",
        "      <th>4</th>\n",
        "      <td>22567</td>\n",
        "      <td>2009\u5e74\u8003\u7814\u82f1\u8bed\u8bfb\u771f\u9898\u8bb0\u5355\u8bcd 2009 nian kao yan ying yu du z...</td>\n",
        "      <td>H313-42 695 2009</td>\n",
        "      <td>2015-06</td>\n",
        "    </tr>\n",
        "  </tbody>\n",
        "</table>\n",
        "</div>"
       ],
       "metadata": {},
       "output_type": "pyout",
       "prompt_number": 3,
       "text": [
        "      id                                          book_name        book_index  \\\n",
        "0  27604  Visual C++\u7cbe\u5f69\u5b9e\u4f8b\u8be6\u89e3 Visual C++ jing cai shi li xi...        TP312C 535   \n",
        "1  19774  Photoshop CS4 \u4e2d\u6587\u7248\u5b8c\u5168\u81ea\u5b66\u653b\u7565 Photoshop CS4 zhong we...    TP391.41 678.4   \n",
        "2  14482  \u8ba4\u77e5\u5fc3\u7406\u5b66 ren zhi xin li xue Cognitive psychology ...       B842.1 S837   \n",
        "3  26968  \u7535\u5de5\u539f\u7406\u7684MATLAB\u5b9e\u73b0 dian gong yuan li de MATLAB shi ...               NaN   \n",
        "4  22567  2009\u5e74\u8003\u7814\u82f1\u8bed\u8bfb\u771f\u9898\u8bb0\u5355\u8bcd 2009 nian kao yan ying yu du z...  H313-42 695 2009   \n",
        "\n",
        "  borrow_month  \n",
        "0      2014-10  \n",
        "1      2013-09  \n",
        "2      2014-10  \n",
        "3      2014-02  \n",
        "4      2015-06  "
       ]
      }
     ],
     "prompt_number": 3
    },
    {
     "cell_type": "code",
     "collapsed": false,
     "input": [
      "borrow_data.isnull().sum()"
     ],
     "language": "python",
     "metadata": {},
     "outputs": [
      {
       "metadata": {},
       "output_type": "pyout",
       "prompt_number": 4,
       "text": [
        "id                  0\n",
        "book_name           0\n",
        "book_index      37254\n",
        "borrow_month        0\n",
        "dtype: int64"
       ]
      }
     ],
     "prompt_number": 4
    },
    {
     "cell_type": "code",
     "collapsed": false,
     "input": [
      "borrow_total = borrow_data.groupby(['id'])['book_name'].count()\n",
      "# borrow_data.groupby(['id']).count()\n",
      "# df.apply(pd.value_counts)\n",
      "borrow_total.colunms=['id','borrow_count']\n",
      "borrow_total.head()"
     ],
     "language": "python",
     "metadata": {},
     "outputs": [
      {
       "metadata": {},
       "output_type": "pyout",
       "prompt_number": 5,
       "text": [
        "id\n",
        "6      2\n",
        "7     28\n",
        "11     4\n",
        "20     9\n",
        "22     5\n",
        "Name: book_name, dtype: int64"
       ]
      }
     ],
     "prompt_number": 5
    },
    {
     "cell_type": "code",
     "collapsed": false,
     "input": [
      "type(borrow_total)"
     ],
     "language": "python",
     "metadata": {},
     "outputs": [
      {
       "metadata": {},
       "output_type": "pyout",
       "prompt_number": 6,
       "text": [
        "pandas.core.series.Series"
       ]
      }
     ],
     "prompt_number": 6
    },
    {
     "cell_type": "code",
     "collapsed": false,
     "input": [
      "borrow_data.groupby(['id']).count().agg(['max','min','sum','mean'])"
     ],
     "language": "python",
     "metadata": {},
     "outputs": [
      {
       "html": [
        "<div style=\"max-width:1500px;overflow:auto;\">\n",
        "<style>\n",
        "    .dataframe thead tr:only-child th {\n",
        "        text-align: right;\n",
        "    }\n",
        "\n",
        "    .dataframe thead th {\n",
        "        text-align: left;\n",
        "    }\n",
        "\n",
        "    .dataframe tbody tr th {\n",
        "        vertical-align: top;\n",
        "    }\n",
        "</style>\n",
        "<table border=\"1\" class=\"dataframe\">\n",
        "  <thead>\n",
        "    <tr style=\"text-align: right;\">\n",
        "      <th></th>\n",
        "      <th>book_name</th>\n",
        "      <th>book_index</th>\n",
        "      <th>borrow_month</th>\n",
        "    </tr>\n",
        "  </thead>\n",
        "  <tbody>\n",
        "    <tr>\n",
        "      <th>max</th>\n",
        "      <td>505.000000</td>\n",
        "      <td>468.000000</td>\n",
        "      <td>505.000000</td>\n",
        "    </tr>\n",
        "    <tr>\n",
        "      <th>min</th>\n",
        "      <td>1.000000</td>\n",
        "      <td>0.000000</td>\n",
        "      <td>1.000000</td>\n",
        "    </tr>\n",
        "    <tr>\n",
        "      <th>sum</th>\n",
        "      <td>456550.000000</td>\n",
        "      <td>419296.000000</td>\n",
        "      <td>456550.000000</td>\n",
        "    </tr>\n",
        "    <tr>\n",
        "      <th>mean</th>\n",
        "      <td>31.597342</td>\n",
        "      <td>29.019032</td>\n",
        "      <td>31.597342</td>\n",
        "    </tr>\n",
        "  </tbody>\n",
        "</table>\n",
        "</div>"
       ],
       "metadata": {},
       "output_type": "pyout",
       "prompt_number": 7,
       "text": [
        "          book_name     book_index   borrow_month\n",
        "max      505.000000     468.000000     505.000000\n",
        "min        1.000000       0.000000       1.000000\n",
        "sum   456550.000000  419296.000000  456550.000000\n",
        "mean      31.597342      29.019032      31.597342"
       ]
      }
     ],
     "prompt_number": 7
    },
    {
     "cell_type": "code",
     "collapsed": false,
     "input": [
      "print(borrow_total.sum())\n",
      "print(borrow_total.count())\n",
      "borrow_total.agg(['max','min','sum','mean'])"
     ],
     "language": "python",
     "metadata": {},
     "outputs": [
      {
       "output_type": "stream",
       "stream": "stdout",
       "text": [
        "456550\n",
        "14449\n"
       ]
      },
      {
       "metadata": {},
       "output_type": "pyout",
       "prompt_number": 8,
       "text": [
        "max        505.000000\n",
        "min          1.000000\n",
        "sum     456550.000000\n",
        "mean        31.597342\n",
        "Name: book_name, dtype: float64"
       ]
      }
     ],
     "prompt_number": 8
    },
    {
     "cell_type": "code",
     "collapsed": false,
     "input": [
      "df = pd.DataFrame({'id':borrow_total.index,'borrow_total':borrow_total.values})\n",
      "df = df[['id','borrow_total']]"
     ],
     "language": "python",
     "metadata": {},
     "outputs": [],
     "prompt_number": 9
    },
    {
     "cell_type": "code",
     "collapsed": false,
     "input": [
      "df.head()"
     ],
     "language": "python",
     "metadata": {},
     "outputs": [
      {
       "html": [
        "<div style=\"max-width:1500px;overflow:auto;\">\n",
        "<style>\n",
        "    .dataframe thead tr:only-child th {\n",
        "        text-align: right;\n",
        "    }\n",
        "\n",
        "    .dataframe thead th {\n",
        "        text-align: left;\n",
        "    }\n",
        "\n",
        "    .dataframe tbody tr th {\n",
        "        vertical-align: top;\n",
        "    }\n",
        "</style>\n",
        "<table border=\"1\" class=\"dataframe\">\n",
        "  <thead>\n",
        "    <tr style=\"text-align: right;\">\n",
        "      <th></th>\n",
        "      <th>id</th>\n",
        "      <th>borrow_total</th>\n",
        "    </tr>\n",
        "  </thead>\n",
        "  <tbody>\n",
        "    <tr>\n",
        "      <th>0</th>\n",
        "      <td>6</td>\n",
        "      <td>2</td>\n",
        "    </tr>\n",
        "    <tr>\n",
        "      <th>1</th>\n",
        "      <td>7</td>\n",
        "      <td>28</td>\n",
        "    </tr>\n",
        "    <tr>\n",
        "      <th>2</th>\n",
        "      <td>11</td>\n",
        "      <td>4</td>\n",
        "    </tr>\n",
        "    <tr>\n",
        "      <th>3</th>\n",
        "      <td>20</td>\n",
        "      <td>9</td>\n",
        "    </tr>\n",
        "    <tr>\n",
        "      <th>4</th>\n",
        "      <td>22</td>\n",
        "      <td>5</td>\n",
        "    </tr>\n",
        "  </tbody>\n",
        "</table>\n",
        "</div>"
       ],
       "metadata": {},
       "output_type": "pyout",
       "prompt_number": 10,
       "text": [
        "   id  borrow_total\n",
        "0   6             2\n",
        "1   7            28\n",
        "2  11             4\n",
        "3  20             9\n",
        "4  22             5"
       ]
      }
     ],
     "prompt_number": 10
    },
    {
     "cell_type": "code",
     "collapsed": false,
     "input": [
      "df.to_csv('./reshaped_data/borrow_total.csv', index=False)"
     ],
     "language": "python",
     "metadata": {},
     "outputs": [],
     "prompt_number": 11
    }
   ],
   "metadata": {}
  }
 ]
}