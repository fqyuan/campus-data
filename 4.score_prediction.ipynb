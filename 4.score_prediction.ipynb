{
 "metadata": {
  "name": "",
  "signature": "sha256:c7801b0126f416014ea1949e8f5c7bd46f7e9c027093102e9dbd46b9dd035883"
 },
 "nbformat": 3,
 "nbformat_minor": 0,
 "worksheets": [
  {
   "cells": [
    {
     "cell_type": "markdown",
     "metadata": {},
     "source": [
      "#\u76ee\u6d4b\u7b80\u5355\u7684\u65b9\u6cd5\u6548\u679c\u4e0d\u592a\u597d\uff0c\u5148\u505a\u51fa\u4e00\u4e2a\u7ed3\u679c\u5427..."
     ]
    },
    {
     "cell_type": "code",
     "collapsed": false,
     "input": [
      "# \u8f7d\u5165\u6240\u9700\u8981\u7684\u5e93\n",
      "import numpy as np\n",
      "import pandas as pd\n",
      "# import tensorflow as tf\n",
      "# \u8f7d\u5165\u6570\u636e\n",
      "x_train = pd.read_pickle('./model_input/x_train.pkl')\n",
      "y_train = pd.read_pickle('./model_input/y_train.pkl')\n",
      "x_test = pd.read_pickle('./model_input/x_test.pkl')"
     ],
     "language": "python",
     "metadata": {},
     "outputs": [],
     "prompt_number": 1
    },
    {
     "cell_type": "code",
     "collapsed": false,
     "input": [
      "from sklearn.preprocessing import minmax_scale as mm\n",
      "x_train = mm(x_train)\n",
      "x_test = mm(x_test)\n"
     ],
     "language": "python",
     "metadata": {},
     "outputs": [],
     "prompt_number": 2
    },
    {
     "cell_type": "markdown",
     "metadata": {},
     "source": [
      "#\u903b\u8f91\u56de\u5f52"
     ]
    },
    {
     "cell_type": "code",
     "collapsed": false,
     "input": [
      "import warnings \n",
      "warnings.filterwarnings(\"ignore\")\n",
      "from sklearn.linear_model import LogisticRegression\n",
      "from sklearn.model_selection import GridSearchCV\n",
      "\n",
      "# \u4e00\u4e2a\u8bad\u7ec3\u4f18\u5316\u6a21\u578b\u7684\u51fd\u6570\n",
      "def train_optimal_classifier(clf,param):\n",
      "    grid_search = GridSearchCV(\n",
      "        clf,\n",
      "        param_grid=param,\n",
      "        cv=5,\n",
      "        verbose=0,\n",
      "        scoring='f1_weighted',\n",
      "        error_score=0,\n",
      "        refit=True ,\n",
      "        n_jobs=-1\n",
      "        )\n",
      "    grid_search.fit(x_train, y_train)\n",
      "    print(\"Best parameters\")\n",
      "    print(grid_search.best_params_)\n",
      "    print('best F1: ')\n",
      "    print(grid_search.best_score_)\n",
      "    return (grid_search.best_estimator_)\n",
      "\n",
      "\n",
      "LR = LogisticRegression(class_weight='balanced',random_state=33,n_jobs=-1,solver='lbfgs')\n",
      "\n",
      "param_LR = {  \"C\":[2e4,5e4,1e5,2e5,4e5,8e5],\n",
      "             }\n",
      "LR_best = train_optimal_classifier(LR,param_LR)\n",
      "print(LR_best)"
     ],
     "language": "python",
     "metadata": {},
     "outputs": [
      {
       "output_type": "stream",
       "stream": "stdout",
       "text": [
        "Best parameters\n",
        "{'C': 50000.0}\n",
        "best F1: \n",
        "0.233750141126\n",
        "LogisticRegression(C=50000.0, class_weight='balanced', dual=False,\n",
        "          fit_intercept=True, intercept_scaling=1, max_iter=100,\n",
        "          multi_class='ovr', n_jobs=-1, penalty='l2', random_state=33,\n",
        "          solver='lbfgs', tol=0.0001, verbose=0, warm_start=False)\n"
       ]
      }
     ],
     "prompt_number": 3
    },
    {
     "cell_type": "markdown",
     "metadata": {},
     "source": [
      "#Bagging \u903b\u8f91\u56de\u5f52"
     ]
    },
    {
     "cell_type": "markdown",
     "metadata": {},
     "source": [
      "Bagging \u903b\u8f91\u56de\u5f52"
     ]
    },
    {
     "cell_type": "code",
     "collapsed": false,
     "input": [
      "from sklearn.ensemble import BaggingClassifier\n",
      "BC = BaggingClassifier(LR_best)\n",
      "param = {}\n",
      "SVM_best = train_optimal_classifier(BC,param)"
     ],
     "language": "python",
     "metadata": {},
     "outputs": [
      {
       "output_type": "stream",
       "stream": "stdout",
       "text": [
        "Best parameters\n",
        "{}\n",
        "best F1: \n",
        "0.232753771536\n"
       ]
      }
     ],
     "prompt_number": 4
    },
    {
     "cell_type": "code",
     "collapsed": false,
     "input": [
      "LR_best.fit(x_train, y_train)\n",
      "y_pred = LR_best.predict(x_test)"
     ],
     "language": "python",
     "metadata": {},
     "outputs": [],
     "prompt_number": 5
    },
    {
     "cell_type": "code",
     "collapsed": false,
     "input": [
      "data1 =  pd.read_csv(\"./test/subsidy_final_test.txt\",encoding='utf-16',header=None)\n",
      "data1.head()"
     ],
     "language": "python",
     "metadata": {},
     "outputs": [
      {
       "html": [
        "<div style=\"max-width:1500px;overflow:auto;\">\n",
        "<style>\n",
        "    .dataframe thead tr:only-child th {\n",
        "        text-align: right;\n",
        "    }\n",
        "\n",
        "    .dataframe thead th {\n",
        "        text-align: left;\n",
        "    }\n",
        "\n",
        "    .dataframe tbody tr th {\n",
        "        vertical-align: top;\n",
        "    }\n",
        "</style>\n",
        "<table border=\"1\" class=\"dataframe\">\n",
        "  <thead>\n",
        "    <tr style=\"text-align: right;\">\n",
        "      <th></th>\n",
        "      <th>0</th>\n",
        "    </tr>\n",
        "  </thead>\n",
        "  <tbody>\n",
        "    <tr>\n",
        "      <th>0</th>\n",
        "      <td>6</td>\n",
        "    </tr>\n",
        "    <tr>\n",
        "      <th>1</th>\n",
        "      <td>7</td>\n",
        "    </tr>\n",
        "    <tr>\n",
        "      <th>2</th>\n",
        "      <td>12</td>\n",
        "    </tr>\n",
        "    <tr>\n",
        "      <th>3</th>\n",
        "      <td>13</td>\n",
        "    </tr>\n",
        "    <tr>\n",
        "      <th>4</th>\n",
        "      <td>14</td>\n",
        "    </tr>\n",
        "  </tbody>\n",
        "</table>\n",
        "</div>"
       ],
       "metadata": {},
       "output_type": "pyout",
       "prompt_number": 6,
       "text": [
        "    0\n",
        "0   6\n",
        "1   7\n",
        "2  12\n",
        "3  13\n",
        "4  14"
       ]
      }
     ],
     "prompt_number": 6
    },
    {
     "cell_type": "code",
     "collapsed": false,
     "input": [
      "data2 = pd.DataFrame(y_pred)"
     ],
     "language": "python",
     "metadata": {},
     "outputs": [],
     "prompt_number": 7
    },
    {
     "cell_type": "code",
     "collapsed": false,
     "input": [
      "data2.head()"
     ],
     "language": "python",
     "metadata": {},
     "outputs": [
      {
       "html": [
        "<div style=\"max-width:1500px;overflow:auto;\">\n",
        "<style>\n",
        "    .dataframe thead tr:only-child th {\n",
        "        text-align: right;\n",
        "    }\n",
        "\n",
        "    .dataframe thead th {\n",
        "        text-align: left;\n",
        "    }\n",
        "\n",
        "    .dataframe tbody tr th {\n",
        "        vertical-align: top;\n",
        "    }\n",
        "</style>\n",
        "<table border=\"1\" class=\"dataframe\">\n",
        "  <thead>\n",
        "    <tr style=\"text-align: right;\">\n",
        "      <th></th>\n",
        "      <th>0</th>\n",
        "    </tr>\n",
        "  </thead>\n",
        "  <tbody>\n",
        "    <tr>\n",
        "      <th>0</th>\n",
        "      <td>2</td>\n",
        "    </tr>\n",
        "    <tr>\n",
        "      <th>1</th>\n",
        "      <td>4</td>\n",
        "    </tr>\n",
        "    <tr>\n",
        "      <th>2</th>\n",
        "      <td>3</td>\n",
        "    </tr>\n",
        "    <tr>\n",
        "      <th>3</th>\n",
        "      <td>4</td>\n",
        "    </tr>\n",
        "    <tr>\n",
        "      <th>4</th>\n",
        "      <td>1</td>\n",
        "    </tr>\n",
        "  </tbody>\n",
        "</table>\n",
        "</div>"
       ],
       "metadata": {},
       "output_type": "pyout",
       "prompt_number": 8,
       "text": [
        "   0\n",
        "0  2\n",
        "1  4\n",
        "2  3\n",
        "3  4\n",
        "4  1"
       ]
      }
     ],
     "prompt_number": 8
    },
    {
     "cell_type": "code",
     "collapsed": false,
     "input": [
      "data = pd.concat([data1,data2],axis=1)"
     ],
     "language": "python",
     "metadata": {},
     "outputs": [],
     "prompt_number": 9
    },
    {
     "cell_type": "code",
     "collapsed": false,
     "input": [
      "data.head()"
     ],
     "language": "python",
     "metadata": {},
     "outputs": [
      {
       "html": [
        "<div style=\"max-width:1500px;overflow:auto;\">\n",
        "<style>\n",
        "    .dataframe thead tr:only-child th {\n",
        "        text-align: right;\n",
        "    }\n",
        "\n",
        "    .dataframe thead th {\n",
        "        text-align: left;\n",
        "    }\n",
        "\n",
        "    .dataframe tbody tr th {\n",
        "        vertical-align: top;\n",
        "    }\n",
        "</style>\n",
        "<table border=\"1\" class=\"dataframe\">\n",
        "  <thead>\n",
        "    <tr style=\"text-align: right;\">\n",
        "      <th></th>\n",
        "      <th>0</th>\n",
        "      <th>0</th>\n",
        "    </tr>\n",
        "  </thead>\n",
        "  <tbody>\n",
        "    <tr>\n",
        "      <th>0</th>\n",
        "      <td>6</td>\n",
        "      <td>2</td>\n",
        "    </tr>\n",
        "    <tr>\n",
        "      <th>1</th>\n",
        "      <td>7</td>\n",
        "      <td>4</td>\n",
        "    </tr>\n",
        "    <tr>\n",
        "      <th>2</th>\n",
        "      <td>12</td>\n",
        "      <td>3</td>\n",
        "    </tr>\n",
        "    <tr>\n",
        "      <th>3</th>\n",
        "      <td>13</td>\n",
        "      <td>4</td>\n",
        "    </tr>\n",
        "    <tr>\n",
        "      <th>4</th>\n",
        "      <td>14</td>\n",
        "      <td>1</td>\n",
        "    </tr>\n",
        "  </tbody>\n",
        "</table>\n",
        "</div>"
       ],
       "metadata": {},
       "output_type": "pyout",
       "prompt_number": 10,
       "text": [
        "    0  0\n",
        "0   6  2\n",
        "1   7  4\n",
        "2  12  3\n",
        "3  13  4\n",
        "4  14  1"
       ]
      }
     ],
     "prompt_number": 10
    },
    {
     "cell_type": "code",
     "collapsed": false,
     "input": [
      "data.to_csv('./model_output/score_pred.csv',index=False,header=None)"
     ],
     "language": "python",
     "metadata": {},
     "outputs": [],
     "prompt_number": 11
    }
   ],
   "metadata": {}
  }
 ]
}